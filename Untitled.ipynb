{
 "cells": [
  {
   "cell_type": "code",
   "execution_count": 1,
   "id": "a17aac2e",
   "metadata": {},
   "outputs": [],
   "source": [
    "import pandas as pd\n",
    "import os\n",
    "import numpy as np\n",
    "import seaborn as sns\n",
    "import warnings"
   ]
  },
  {
   "cell_type": "code",
   "execution_count": 2,
   "id": "c7a14e51",
   "metadata": {},
   "outputs": [],
   "source": [
    "data = pd.read_csv('Traffic_Crashes_-_Crashes.csv')"
   ]
  },
  {
   "cell_type": "code",
   "execution_count": 3,
   "id": "074561d4",
   "metadata": {
    "scrolled": true
   },
   "outputs": [
    {
     "data": {
      "text/html": [
       "<div>\n",
       "<style scoped>\n",
       "    .dataframe tbody tr th:only-of-type {\n",
       "        vertical-align: middle;\n",
       "    }\n",
       "\n",
       "    .dataframe tbody tr th {\n",
       "        vertical-align: top;\n",
       "    }\n",
       "\n",
       "    .dataframe thead th {\n",
       "        text-align: right;\n",
       "    }\n",
       "</style>\n",
       "<table border=\"1\" class=\"dataframe\">\n",
       "  <thead>\n",
       "    <tr style=\"text-align: right;\">\n",
       "      <th></th>\n",
       "      <th>CRASH_RECORD_ID</th>\n",
       "      <th>RD_NO</th>\n",
       "      <th>CRASH_DATE_EST_I</th>\n",
       "      <th>CRASH_DATE</th>\n",
       "      <th>POSTED_SPEED_LIMIT</th>\n",
       "      <th>TRAFFIC_CONTROL_DEVICE</th>\n",
       "      <th>DEVICE_CONDITION</th>\n",
       "      <th>WEATHER_CONDITION</th>\n",
       "      <th>LIGHTING_CONDITION</th>\n",
       "      <th>FIRST_CRASH_TYPE</th>\n",
       "      <th>...</th>\n",
       "      <th>INJURIES_NON_INCAPACITATING</th>\n",
       "      <th>INJURIES_REPORTED_NOT_EVIDENT</th>\n",
       "      <th>INJURIES_NO_INDICATION</th>\n",
       "      <th>INJURIES_UNKNOWN</th>\n",
       "      <th>CRASH_HOUR</th>\n",
       "      <th>CRASH_DAY_OF_WEEK</th>\n",
       "      <th>CRASH_MONTH</th>\n",
       "      <th>LATITUDE</th>\n",
       "      <th>LONGITUDE</th>\n",
       "      <th>LOCATION</th>\n",
       "    </tr>\n",
       "  </thead>\n",
       "  <tbody>\n",
       "    <tr>\n",
       "      <th>0</th>\n",
       "      <td>012c5bfce715efb2f2b387d6dd86f9c13e9dc1809fb52a...</td>\n",
       "      <td>JG341943</td>\n",
       "      <td>NaN</td>\n",
       "      <td>07/12/2023 03:05:00 PM</td>\n",
       "      <td>30</td>\n",
       "      <td>NO CONTROLS</td>\n",
       "      <td>NO CONTROLS</td>\n",
       "      <td>CLEAR</td>\n",
       "      <td>DAYLIGHT</td>\n",
       "      <td>TURNING</td>\n",
       "      <td>...</td>\n",
       "      <td>0.0</td>\n",
       "      <td>0.0</td>\n",
       "      <td>2.0</td>\n",
       "      <td>0.0</td>\n",
       "      <td>15</td>\n",
       "      <td>4</td>\n",
       "      <td>7</td>\n",
       "      <td>41.778542</td>\n",
       "      <td>-87.742065</td>\n",
       "      <td>POINT (-87.742064741348 41.778541938106)</td>\n",
       "    </tr>\n",
       "    <tr>\n",
       "      <th>1</th>\n",
       "      <td>01d457f032e23d935a0b8f6b4c88221375180ffd4cd959...</td>\n",
       "      <td>JG338388</td>\n",
       "      <td>NaN</td>\n",
       "      <td>07/12/2023 05:50:00 PM</td>\n",
       "      <td>30</td>\n",
       "      <td>NO CONTROLS</td>\n",
       "      <td>NO CONTROLS</td>\n",
       "      <td>CLEAR</td>\n",
       "      <td>DAYLIGHT</td>\n",
       "      <td>REAR END</td>\n",
       "      <td>...</td>\n",
       "      <td>0.0</td>\n",
       "      <td>0.0</td>\n",
       "      <td>2.0</td>\n",
       "      <td>0.0</td>\n",
       "      <td>17</td>\n",
       "      <td>4</td>\n",
       "      <td>7</td>\n",
       "      <td>41.742131</td>\n",
       "      <td>-87.721824</td>\n",
       "      <td>POINT (-87.72182410033 41.742130554062)</td>\n",
       "    </tr>\n",
       "    <tr>\n",
       "      <th>2</th>\n",
       "      <td>02249b4747a4bf40b88a8357304a98dfeaef9c38eebbf0...</td>\n",
       "      <td>JG350008</td>\n",
       "      <td>NaN</td>\n",
       "      <td>07/12/2023 02:00:00 PM</td>\n",
       "      <td>30</td>\n",
       "      <td>NO CONTROLS</td>\n",
       "      <td>NO CONTROLS</td>\n",
       "      <td>CLEAR</td>\n",
       "      <td>DAYLIGHT</td>\n",
       "      <td>OTHER OBJECT</td>\n",
       "      <td>...</td>\n",
       "      <td>0.0</td>\n",
       "      <td>0.0</td>\n",
       "      <td>1.0</td>\n",
       "      <td>0.0</td>\n",
       "      <td>14</td>\n",
       "      <td>4</td>\n",
       "      <td>7</td>\n",
       "      <td>41.719844</td>\n",
       "      <td>-87.584790</td>\n",
       "      <td>POINT (-87.584789974824 41.719844228292)</td>\n",
       "    </tr>\n",
       "    <tr>\n",
       "      <th>3</th>\n",
       "      <td>03e3b6caad71b78ed9ae325648effa9512bfb2517aed30...</td>\n",
       "      <td>JG338049</td>\n",
       "      <td>NaN</td>\n",
       "      <td>07/12/2023 07:05:00 AM</td>\n",
       "      <td>30</td>\n",
       "      <td>TRAFFIC SIGNAL</td>\n",
       "      <td>UNKNOWN</td>\n",
       "      <td>FREEZING RAIN/DRIZZLE</td>\n",
       "      <td>DAYLIGHT</td>\n",
       "      <td>REAR END</td>\n",
       "      <td>...</td>\n",
       "      <td>0.0</td>\n",
       "      <td>0.0</td>\n",
       "      <td>2.0</td>\n",
       "      <td>0.0</td>\n",
       "      <td>7</td>\n",
       "      <td>4</td>\n",
       "      <td>7</td>\n",
       "      <td>41.925105</td>\n",
       "      <td>-87.668291</td>\n",
       "      <td>POINT (-87.668291181568 41.925104953308)</td>\n",
       "    </tr>\n",
       "    <tr>\n",
       "      <th>4</th>\n",
       "      <td>0481fc919b38f1572d4ba04b069766102d904a662ff096...</td>\n",
       "      <td>JG338431</td>\n",
       "      <td>NaN</td>\n",
       "      <td>07/12/2023 06:30:00 PM</td>\n",
       "      <td>30</td>\n",
       "      <td>NO CONTROLS</td>\n",
       "      <td>NO CONTROLS</td>\n",
       "      <td>CLEAR</td>\n",
       "      <td>DAYLIGHT</td>\n",
       "      <td>REAR END</td>\n",
       "      <td>...</td>\n",
       "      <td>0.0</td>\n",
       "      <td>0.0</td>\n",
       "      <td>2.0</td>\n",
       "      <td>0.0</td>\n",
       "      <td>18</td>\n",
       "      <td>4</td>\n",
       "      <td>7</td>\n",
       "      <td>41.975258</td>\n",
       "      <td>-87.751991</td>\n",
       "      <td>POINT (-87.751990557158 41.97525809527)</td>\n",
       "    </tr>\n",
       "  </tbody>\n",
       "</table>\n",
       "<p>5 rows × 49 columns</p>\n",
       "</div>"
      ],
      "text/plain": [
       "                                     CRASH_RECORD_ID     RD_NO  \\\n",
       "0  012c5bfce715efb2f2b387d6dd86f9c13e9dc1809fb52a...  JG341943   \n",
       "1  01d457f032e23d935a0b8f6b4c88221375180ffd4cd959...  JG338388   \n",
       "2  02249b4747a4bf40b88a8357304a98dfeaef9c38eebbf0...  JG350008   \n",
       "3  03e3b6caad71b78ed9ae325648effa9512bfb2517aed30...  JG338049   \n",
       "4  0481fc919b38f1572d4ba04b069766102d904a662ff096...  JG338431   \n",
       "\n",
       "  CRASH_DATE_EST_I              CRASH_DATE  POSTED_SPEED_LIMIT  \\\n",
       "0              NaN  07/12/2023 03:05:00 PM                  30   \n",
       "1              NaN  07/12/2023 05:50:00 PM                  30   \n",
       "2              NaN  07/12/2023 02:00:00 PM                  30   \n",
       "3              NaN  07/12/2023 07:05:00 AM                  30   \n",
       "4              NaN  07/12/2023 06:30:00 PM                  30   \n",
       "\n",
       "  TRAFFIC_CONTROL_DEVICE DEVICE_CONDITION      WEATHER_CONDITION  \\\n",
       "0            NO CONTROLS      NO CONTROLS                  CLEAR   \n",
       "1            NO CONTROLS      NO CONTROLS                  CLEAR   \n",
       "2            NO CONTROLS      NO CONTROLS                  CLEAR   \n",
       "3         TRAFFIC SIGNAL          UNKNOWN  FREEZING RAIN/DRIZZLE   \n",
       "4            NO CONTROLS      NO CONTROLS                  CLEAR   \n",
       "\n",
       "  LIGHTING_CONDITION FIRST_CRASH_TYPE  ... INJURIES_NON_INCAPACITATING  \\\n",
       "0           DAYLIGHT          TURNING  ...                         0.0   \n",
       "1           DAYLIGHT         REAR END  ...                         0.0   \n",
       "2           DAYLIGHT     OTHER OBJECT  ...                         0.0   \n",
       "3           DAYLIGHT         REAR END  ...                         0.0   \n",
       "4           DAYLIGHT         REAR END  ...                         0.0   \n",
       "\n",
       "   INJURIES_REPORTED_NOT_EVIDENT INJURIES_NO_INDICATION INJURIES_UNKNOWN  \\\n",
       "0                            0.0                    2.0              0.0   \n",
       "1                            0.0                    2.0              0.0   \n",
       "2                            0.0                    1.0              0.0   \n",
       "3                            0.0                    2.0              0.0   \n",
       "4                            0.0                    2.0              0.0   \n",
       "\n",
       "  CRASH_HOUR CRASH_DAY_OF_WEEK CRASH_MONTH   LATITUDE  LONGITUDE  \\\n",
       "0         15                 4           7  41.778542 -87.742065   \n",
       "1         17                 4           7  41.742131 -87.721824   \n",
       "2         14                 4           7  41.719844 -87.584790   \n",
       "3          7                 4           7  41.925105 -87.668291   \n",
       "4         18                 4           7  41.975258 -87.751991   \n",
       "\n",
       "                                   LOCATION  \n",
       "0  POINT (-87.742064741348 41.778541938106)  \n",
       "1   POINT (-87.72182410033 41.742130554062)  \n",
       "2  POINT (-87.584789974824 41.719844228292)  \n",
       "3  POINT (-87.668291181568 41.925104953308)  \n",
       "4   POINT (-87.751990557158 41.97525809527)  \n",
       "\n",
       "[5 rows x 49 columns]"
      ]
     },
     "execution_count": 3,
     "metadata": {},
     "output_type": "execute_result"
    }
   ],
   "source": [
    "data.head()"
   ]
  },
  {
   "cell_type": "code",
   "execution_count": 4,
   "id": "a353a99f",
   "metadata": {},
   "outputs": [
    {
     "data": {
      "text/plain": [
       "(746498, 49)"
      ]
     },
     "execution_count": 4,
     "metadata": {},
     "output_type": "execute_result"
    }
   ],
   "source": [
    "data.shape"
   ]
  },
  {
   "cell_type": "code",
   "execution_count": 5,
   "id": "8ee71432",
   "metadata": {},
   "outputs": [
    {
     "data": {
      "text/plain": [
       "CRASH_RECORD_ID                   object\n",
       "RD_NO                             object\n",
       "CRASH_DATE_EST_I                  object\n",
       "CRASH_DATE                        object\n",
       "POSTED_SPEED_LIMIT                 int64\n",
       "TRAFFIC_CONTROL_DEVICE            object\n",
       "DEVICE_CONDITION                  object\n",
       "WEATHER_CONDITION                 object\n",
       "LIGHTING_CONDITION                object\n",
       "FIRST_CRASH_TYPE                  object\n",
       "TRAFFICWAY_TYPE                   object\n",
       "LANE_CNT                         float64\n",
       "ALIGNMENT                         object\n",
       "ROADWAY_SURFACE_COND              object\n",
       "ROAD_DEFECT                       object\n",
       "REPORT_TYPE                       object\n",
       "CRASH_TYPE                        object\n",
       "INTERSECTION_RELATED_I            object\n",
       "NOT_RIGHT_OF_WAY_I                object\n",
       "HIT_AND_RUN_I                     object\n",
       "DAMAGE                            object\n",
       "DATE_POLICE_NOTIFIED              object\n",
       "PRIM_CONTRIBUTORY_CAUSE           object\n",
       "SEC_CONTRIBUTORY_CAUSE            object\n",
       "STREET_NO                          int64\n",
       "STREET_DIRECTION                  object\n",
       "STREET_NAME                       object\n",
       "BEAT_OF_OCCURRENCE               float64\n",
       "PHOTOS_TAKEN_I                    object\n",
       "STATEMENTS_TAKEN_I                object\n",
       "DOORING_I                         object\n",
       "WORK_ZONE_I                       object\n",
       "WORK_ZONE_TYPE                    object\n",
       "WORKERS_PRESENT_I                 object\n",
       "NUM_UNITS                          int64\n",
       "MOST_SEVERE_INJURY                object\n",
       "INJURIES_TOTAL                   float64\n",
       "INJURIES_FATAL                   float64\n",
       "INJURIES_INCAPACITATING          float64\n",
       "INJURIES_NON_INCAPACITATING      float64\n",
       "INJURIES_REPORTED_NOT_EVIDENT    float64\n",
       "INJURIES_NO_INDICATION           float64\n",
       "INJURIES_UNKNOWN                 float64\n",
       "CRASH_HOUR                         int64\n",
       "CRASH_DAY_OF_WEEK                  int64\n",
       "CRASH_MONTH                        int64\n",
       "LATITUDE                         float64\n",
       "LONGITUDE                        float64\n",
       "LOCATION                          object\n",
       "dtype: object"
      ]
     },
     "execution_count": 5,
     "metadata": {},
     "output_type": "execute_result"
    }
   ],
   "source": [
    "data.dtypes"
   ]
  },
  {
   "cell_type": "code",
   "execution_count": 6,
   "id": "6e8f454a",
   "metadata": {},
   "outputs": [
    {
     "data": {
      "text/html": [
       "<div>\n",
       "<style scoped>\n",
       "    .dataframe tbody tr th:only-of-type {\n",
       "        vertical-align: middle;\n",
       "    }\n",
       "\n",
       "    .dataframe tbody tr th {\n",
       "        vertical-align: top;\n",
       "    }\n",
       "\n",
       "    .dataframe thead th {\n",
       "        text-align: right;\n",
       "    }\n",
       "</style>\n",
       "<table border=\"1\" class=\"dataframe\">\n",
       "  <thead>\n",
       "    <tr style=\"text-align: right;\">\n",
       "      <th></th>\n",
       "      <th>POSTED_SPEED_LIMIT</th>\n",
       "      <th>LANE_CNT</th>\n",
       "      <th>STREET_NO</th>\n",
       "      <th>BEAT_OF_OCCURRENCE</th>\n",
       "      <th>NUM_UNITS</th>\n",
       "      <th>INJURIES_TOTAL</th>\n",
       "      <th>INJURIES_FATAL</th>\n",
       "      <th>INJURIES_INCAPACITATING</th>\n",
       "      <th>INJURIES_NON_INCAPACITATING</th>\n",
       "      <th>INJURIES_REPORTED_NOT_EVIDENT</th>\n",
       "      <th>INJURIES_NO_INDICATION</th>\n",
       "      <th>INJURIES_UNKNOWN</th>\n",
       "      <th>CRASH_HOUR</th>\n",
       "      <th>CRASH_DAY_OF_WEEK</th>\n",
       "      <th>CRASH_MONTH</th>\n",
       "      <th>LATITUDE</th>\n",
       "      <th>LONGITUDE</th>\n",
       "    </tr>\n",
       "  </thead>\n",
       "  <tbody>\n",
       "    <tr>\n",
       "      <th>count</th>\n",
       "      <td>746498</td>\n",
       "      <td>199004</td>\n",
       "      <td>746498</td>\n",
       "      <td>746493</td>\n",
       "      <td>746498</td>\n",
       "      <td>744879</td>\n",
       "      <td>744879</td>\n",
       "      <td>744879</td>\n",
       "      <td>744879</td>\n",
       "      <td>744879</td>\n",
       "      <td>744879</td>\n",
       "      <td>744879</td>\n",
       "      <td>746498</td>\n",
       "      <td>746498</td>\n",
       "      <td>746498</td>\n",
       "      <td>741590</td>\n",
       "      <td>741590</td>\n",
       "    </tr>\n",
       "    <tr>\n",
       "      <th>mean</th>\n",
       "      <td>28</td>\n",
       "      <td>13</td>\n",
       "      <td>3685</td>\n",
       "      <td>1241</td>\n",
       "      <td>2</td>\n",
       "      <td>0</td>\n",
       "      <td>0</td>\n",
       "      <td>0</td>\n",
       "      <td>0</td>\n",
       "      <td>0</td>\n",
       "      <td>2</td>\n",
       "      <td>0</td>\n",
       "      <td>13</td>\n",
       "      <td>4</td>\n",
       "      <td>6</td>\n",
       "      <td>41</td>\n",
       "      <td>-87</td>\n",
       "    </tr>\n",
       "    <tr>\n",
       "      <th>std</th>\n",
       "      <td>6</td>\n",
       "      <td>2961</td>\n",
       "      <td>2891</td>\n",
       "      <td>705</td>\n",
       "      <td>0</td>\n",
       "      <td>0</td>\n",
       "      <td>0</td>\n",
       "      <td>0</td>\n",
       "      <td>0</td>\n",
       "      <td>0</td>\n",
       "      <td>1</td>\n",
       "      <td>0</td>\n",
       "      <td>5</td>\n",
       "      <td>1</td>\n",
       "      <td>3</td>\n",
       "      <td>0</td>\n",
       "      <td>0</td>\n",
       "    </tr>\n",
       "    <tr>\n",
       "      <th>min</th>\n",
       "      <td>0</td>\n",
       "      <td>0</td>\n",
       "      <td>0</td>\n",
       "      <td>111</td>\n",
       "      <td>1</td>\n",
       "      <td>0</td>\n",
       "      <td>0</td>\n",
       "      <td>0</td>\n",
       "      <td>0</td>\n",
       "      <td>0</td>\n",
       "      <td>0</td>\n",
       "      <td>0</td>\n",
       "      <td>0</td>\n",
       "      <td>1</td>\n",
       "      <td>1</td>\n",
       "      <td>0</td>\n",
       "      <td>-87</td>\n",
       "    </tr>\n",
       "    <tr>\n",
       "      <th>25%</th>\n",
       "      <td>30</td>\n",
       "      <td>2</td>\n",
       "      <td>1241</td>\n",
       "      <td>713</td>\n",
       "      <td>2</td>\n",
       "      <td>0</td>\n",
       "      <td>0</td>\n",
       "      <td>0</td>\n",
       "      <td>0</td>\n",
       "      <td>0</td>\n",
       "      <td>1</td>\n",
       "      <td>0</td>\n",
       "      <td>9</td>\n",
       "      <td>2</td>\n",
       "      <td>4</td>\n",
       "      <td>41</td>\n",
       "      <td>-87</td>\n",
       "    </tr>\n",
       "    <tr>\n",
       "      <th>50%</th>\n",
       "      <td>30</td>\n",
       "      <td>2</td>\n",
       "      <td>3200</td>\n",
       "      <td>1211</td>\n",
       "      <td>2</td>\n",
       "      <td>0</td>\n",
       "      <td>0</td>\n",
       "      <td>0</td>\n",
       "      <td>0</td>\n",
       "      <td>0</td>\n",
       "      <td>2</td>\n",
       "      <td>0</td>\n",
       "      <td>14</td>\n",
       "      <td>4</td>\n",
       "      <td>7</td>\n",
       "      <td>41</td>\n",
       "      <td>-87</td>\n",
       "    </tr>\n",
       "    <tr>\n",
       "      <th>75%</th>\n",
       "      <td>30</td>\n",
       "      <td>4</td>\n",
       "      <td>5600</td>\n",
       "      <td>1822</td>\n",
       "      <td>2</td>\n",
       "      <td>0</td>\n",
       "      <td>0</td>\n",
       "      <td>0</td>\n",
       "      <td>0</td>\n",
       "      <td>0</td>\n",
       "      <td>2</td>\n",
       "      <td>0</td>\n",
       "      <td>17</td>\n",
       "      <td>6</td>\n",
       "      <td>10</td>\n",
       "      <td>41</td>\n",
       "      <td>-87</td>\n",
       "    </tr>\n",
       "    <tr>\n",
       "      <th>max</th>\n",
       "      <td>99</td>\n",
       "      <td>1191625</td>\n",
       "      <td>451100</td>\n",
       "      <td>6100</td>\n",
       "      <td>18</td>\n",
       "      <td>21</td>\n",
       "      <td>4</td>\n",
       "      <td>10</td>\n",
       "      <td>21</td>\n",
       "      <td>15</td>\n",
       "      <td>61</td>\n",
       "      <td>0</td>\n",
       "      <td>23</td>\n",
       "      <td>7</td>\n",
       "      <td>12</td>\n",
       "      <td>42</td>\n",
       "      <td>0</td>\n",
       "    </tr>\n",
       "  </tbody>\n",
       "</table>\n",
       "</div>"
      ],
      "text/plain": [
       "       POSTED_SPEED_LIMIT  LANE_CNT  STREET_NO  BEAT_OF_OCCURRENCE  NUM_UNITS  \\\n",
       "count              746498    199004     746498              746493     746498   \n",
       "mean                   28        13       3685                1241          2   \n",
       "std                     6      2961       2891                 705          0   \n",
       "min                     0         0          0                 111          1   \n",
       "25%                    30         2       1241                 713          2   \n",
       "50%                    30         2       3200                1211          2   \n",
       "75%                    30         4       5600                1822          2   \n",
       "max                    99   1191625     451100                6100         18   \n",
       "\n",
       "       INJURIES_TOTAL  INJURIES_FATAL  INJURIES_INCAPACITATING  \\\n",
       "count          744879          744879                   744879   \n",
       "mean                0               0                        0   \n",
       "std                 0               0                        0   \n",
       "min                 0               0                        0   \n",
       "25%                 0               0                        0   \n",
       "50%                 0               0                        0   \n",
       "75%                 0               0                        0   \n",
       "max                21               4                       10   \n",
       "\n",
       "       INJURIES_NON_INCAPACITATING  INJURIES_REPORTED_NOT_EVIDENT  \\\n",
       "count                       744879                         744879   \n",
       "mean                             0                              0   \n",
       "std                              0                              0   \n",
       "min                              0                              0   \n",
       "25%                              0                              0   \n",
       "50%                              0                              0   \n",
       "75%                              0                              0   \n",
       "max                             21                             15   \n",
       "\n",
       "       INJURIES_NO_INDICATION  INJURIES_UNKNOWN  CRASH_HOUR  \\\n",
       "count                  744879            744879      746498   \n",
       "mean                        2                 0          13   \n",
       "std                         1                 0           5   \n",
       "min                         0                 0           0   \n",
       "25%                         1                 0           9   \n",
       "50%                         2                 0          14   \n",
       "75%                         2                 0          17   \n",
       "max                        61                 0          23   \n",
       "\n",
       "       CRASH_DAY_OF_WEEK  CRASH_MONTH  LATITUDE  LONGITUDE  \n",
       "count             746498       746498    741590     741590  \n",
       "mean                   4            6        41        -87  \n",
       "std                    1            3         0          0  \n",
       "min                    1            1         0        -87  \n",
       "25%                    2            4        41        -87  \n",
       "50%                    4            7        41        -87  \n",
       "75%                    6           10        41        -87  \n",
       "max                    7           12        42          0  "
      ]
     },
     "execution_count": 6,
     "metadata": {},
     "output_type": "execute_result"
    }
   ],
   "source": [
    "data.describe(include = [np.number]).astype(int)"
   ]
  },
  {
   "cell_type": "code",
   "execution_count": 7,
   "id": "3ea29f7c",
   "metadata": {},
   "outputs": [
    {
     "data": {
      "text/plain": [
       "CRASH_RECORD_ID                       0\n",
       "RD_NO                              4307\n",
       "CRASH_DATE_EST_I                 690109\n",
       "CRASH_DATE                            0\n",
       "POSTED_SPEED_LIMIT                    0\n",
       "TRAFFIC_CONTROL_DEVICE                0\n",
       "DEVICE_CONDITION                      0\n",
       "WEATHER_CONDITION                     0\n",
       "LIGHTING_CONDITION                    0\n",
       "FIRST_CRASH_TYPE                      0\n",
       "TRAFFICWAY_TYPE                       0\n",
       "LANE_CNT                         547494\n",
       "ALIGNMENT                             0\n",
       "ROADWAY_SURFACE_COND                  0\n",
       "ROAD_DEFECT                           0\n",
       "REPORT_TYPE                       21222\n",
       "CRASH_TYPE                            0\n",
       "INTERSECTION_RELATED_I           575368\n",
       "NOT_RIGHT_OF_WAY_I               711724\n",
       "HIT_AND_RUN_I                    513706\n",
       "DAMAGE                                0\n",
       "DATE_POLICE_NOTIFIED                  0\n",
       "PRIM_CONTRIBUTORY_CAUSE               0\n",
       "SEC_CONTRIBUTORY_CAUSE                0\n",
       "STREET_NO                             0\n",
       "STREET_DIRECTION                      4\n",
       "STREET_NAME                           1\n",
       "BEAT_OF_OCCURRENCE                    5\n",
       "PHOTOS_TAKEN_I                   737007\n",
       "STATEMENTS_TAKEN_I               730402\n",
       "DOORING_I                        744212\n",
       "WORK_ZONE_I                      742175\n",
       "WORK_ZONE_TYPE                   743128\n",
       "WORKERS_PRESENT_I                745383\n",
       "NUM_UNITS                             0\n",
       "MOST_SEVERE_INJURY                 1630\n",
       "INJURIES_TOTAL                     1619\n",
       "INJURIES_FATAL                     1619\n",
       "INJURIES_INCAPACITATING            1619\n",
       "INJURIES_NON_INCAPACITATING        1619\n",
       "INJURIES_REPORTED_NOT_EVIDENT      1619\n",
       "INJURIES_NO_INDICATION             1619\n",
       "INJURIES_UNKNOWN                   1619\n",
       "CRASH_HOUR                            0\n",
       "CRASH_DAY_OF_WEEK                     0\n",
       "CRASH_MONTH                           0\n",
       "LATITUDE                           4908\n",
       "LONGITUDE                          4908\n",
       "LOCATION                           4908\n",
       "dtype: int64"
      ]
     },
     "execution_count": 7,
     "metadata": {},
     "output_type": "execute_result"
    }
   ],
   "source": [
    "data.isnull().sum()"
   ]
  },
  {
   "cell_type": "markdown",
   "id": "ec0eb8c7",
   "metadata": {},
   "source": [
    "Deal with missing values, Imputation Techniques"
   ]
  },
  {
   "cell_type": "code",
   "execution_count": 8,
   "id": "ee50fc65",
   "metadata": {},
   "outputs": [],
   "source": [
    "# \"CRASH_DATE_EST_I\", too many missing values, replace with mode\n",
    "data['CRASH_DATE_EST_I'].fillna(data['CRASH_DATE_EST_I'].mode()[0], inplace=True)"
   ]
  },
  {
   "cell_type": "code",
   "execution_count": 9,
   "id": "3f464e17",
   "metadata": {},
   "outputs": [],
   "source": [
    "#\"LANE_CNT\", too many missing values, replace with mean\n",
    "data['LANE_CNT'].fillna(data['LANE_CNT'].mean(), inplace=True)"
   ]
  },
  {
   "cell_type": "code",
   "execution_count": 10,
   "id": "6e9b7f85",
   "metadata": {},
   "outputs": [],
   "source": [
    "#\"INTERSECTION_RELATED_I\", too many missing values, replace with mode\n",
    "data['INTERSECTION_RELATED_I'].fillna(data['INTERSECTION_RELATED_I'].mode()[0], inplace=True)"
   ]
  },
  {
   "cell_type": "code",
   "execution_count": 11,
   "id": "73b7616b",
   "metadata": {},
   "outputs": [],
   "source": [
    "#Drop \"NOT_RIGHT_OF_WAY_I\", too many missing values, replace with mode\n",
    "data['NOT_RIGHT_OF_WAY_I'].fillna(data['NOT_RIGHT_OF_WAY_I'].mode()[0], inplace=True)"
   ]
  },
  {
   "cell_type": "code",
   "execution_count": 12,
   "id": "773390d8",
   "metadata": {},
   "outputs": [],
   "source": [
    "#Drop \"HIT_AND_RUN_I\", too many missing values, replace with mode\n",
    "data['HIT_AND_RUN_I'].fillna(data['HIT_AND_RUN_I'].mode()[0], inplace=True)"
   ]
  },
  {
   "cell_type": "code",
   "execution_count": 13,
   "id": "062924fa",
   "metadata": {},
   "outputs": [],
   "source": [
    "#Categorical data column \"REPORT_TYPE\" replace with mode\n",
    "data['REPORT_TYPE'].fillna(data['REPORT_TYPE'].mode()[0], inplace=True)"
   ]
  },
  {
   "cell_type": "code",
   "execution_count": 14,
   "id": "294e192e",
   "metadata": {},
   "outputs": [],
   "source": [
    "#Categorical data  column, \"WORK_ZONE_I\" replace with mode\n",
    "data['WORK_ZONE_I'].fillna(data['WORK_ZONE_I'].mode()[0], inplace=True)"
   ]
  },
  {
   "cell_type": "code",
   "execution_count": 15,
   "id": "e6563c20",
   "metadata": {},
   "outputs": [],
   "source": [
    "#Categorical data  column, \"WORK_ZONE_I\" replace with mode\n",
    "data['WORK_ZONE_TYPE'].fillna(data['WORK_ZONE_TYPE'].mode()[0], inplace=True)"
   ]
  },
  {
   "cell_type": "code",
   "execution_count": 16,
   "id": "fe704a33",
   "metadata": {},
   "outputs": [],
   "source": [
    "#Categorical data column \"REPORT_TYPE\" replace with mode\n",
    "data['WORKERS_PRESENT_I'].fillna(data['WORKERS_PRESENT_I'].mode()[0], inplace=True)"
   ]
  },
  {
   "cell_type": "code",
   "execution_count": 17,
   "id": "3d914ab4",
   "metadata": {},
   "outputs": [],
   "source": [
    "#Categorical data  column, \"MOST_SEVERE_INJURY\" replace with mode(NB!!! Not too many missing, can be dropped)\n",
    "data['MOST_SEVERE_INJURY'].fillna(data['MOST_SEVERE_INJURY'].mode()[0], inplace=True)"
   ]
  },
  {
   "cell_type": "code",
   "execution_count": 18,
   "id": "6c9754fb",
   "metadata": {},
   "outputs": [],
   "source": [
    "#continous data column \"INJURIES_TOTAL\", can be replaced with mean\n",
    "data['INJURIES_TOTAL'].fillna(data['INJURIES_TOTAL'].mean(), inplace=True)"
   ]
  },
  {
   "cell_type": "code",
   "execution_count": 19,
   "id": "06f7bdea",
   "metadata": {},
   "outputs": [],
   "source": [
    "#continous data column \"INJURIES_FATAL\" replace with mean\n",
    "data['INJURIES_FATAL'].fillna(data['INJURIES_FATAL'].mean(), inplace=True)"
   ]
  },
  {
   "cell_type": "code",
   "execution_count": 20,
   "id": "1502091f",
   "metadata": {},
   "outputs": [],
   "source": [
    "#continous data column \"INJURIES_INCAPACITATING\" replace with mean\n",
    "data['INJURIES_INCAPACITATING'].fillna(data['INJURIES_INCAPACITATING'].mean(), inplace=True)"
   ]
  },
  {
   "cell_type": "code",
   "execution_count": 21,
   "id": "311b1cab",
   "metadata": {},
   "outputs": [],
   "source": [
    "#continous data column \"INJURIES_NON_INCAPACITATING\" replace with mean\n",
    "data['INJURIES_NON_INCAPACITATING'].fillna(data['INJURIES_NON_INCAPACITATING'].mean(), inplace=True)"
   ]
  },
  {
   "cell_type": "code",
   "execution_count": 22,
   "id": "e4b585fd",
   "metadata": {},
   "outputs": [],
   "source": [
    "#continous data column \"INJURIES_REPORTED_NOT_EVIDENT\" replace with mean\n",
    "data['INJURIES_REPORTED_NOT_EVIDENT'].fillna(data['INJURIES_REPORTED_NOT_EVIDENT'].mean(), inplace=True)"
   ]
  },
  {
   "cell_type": "code",
   "execution_count": 23,
   "id": "1c2a3f93",
   "metadata": {},
   "outputs": [],
   "source": [
    "#continous data column \"INJURIES_NO_INDICATIONL\" replace with mean\n",
    "data['INJURIES_NO_INDICATION'].fillna(data['INJURIES_NO_INDICATION'].mean(), inplace=True)"
   ]
  },
  {
   "cell_type": "code",
   "execution_count": 24,
   "id": "bad58dc0",
   "metadata": {},
   "outputs": [],
   "source": [
    "#continous data column \"INJURIES_UNKNOWN\" replace with mean\n",
    "data['INJURIES_UNKNOWN'].fillna(data['INJURIES_UNKNOWN'].mean(), inplace=True)"
   ]
  },
  {
   "cell_type": "code",
   "execution_count": 25,
   "id": "e4bd1948",
   "metadata": {},
   "outputs": [],
   "source": [
    "#Impute \"LATITUDE\", replace with mode\n",
    "data['LATITUDE'].fillna(data['LATITUDE'].mode()[0], inplace=True)"
   ]
  },
  {
   "cell_type": "code",
   "execution_count": 26,
   "id": "e7dbde77",
   "metadata": {},
   "outputs": [],
   "source": [
    "# \"LONGITUDE\",  replace with mode\n",
    "data['LONGITUDE'].fillna(data['LONGITUDE'].mode()[0], inplace=True)"
   ]
  },
  {
   "cell_type": "code",
   "execution_count": 27,
   "id": "8a80ae6d",
   "metadata": {},
   "outputs": [
    {
     "name": "stdout",
     "output_type": "stream",
     "text": [
      "41.976201139 -87.905309125\n"
     ]
    }
   ],
   "source": [
    "print(data['LATITUDE'].mode()[0],data['LONGITUDE'].mode()[0])"
   ]
  },
  {
   "cell_type": "code",
   "execution_count": 28,
   "id": "b4f22ec3",
   "metadata": {},
   "outputs": [
    {
     "name": "stdout",
     "output_type": "stream",
     "text": [
      "Appearing :\n",
      "6096\n",
      "6096\n"
     ]
    }
   ],
   "source": [
    "print(\"Appearing :\")\n",
    "print(data['LATITUDE'].value_counts()[data['LATITUDE'].mode()[0]])\n",
    "print(data['LONGITUDE'].value_counts()[data['LONGITUDE'].mode()[0]])"
   ]
  },
  {
   "cell_type": "code",
   "execution_count": 29,
   "id": "d2e5597f",
   "metadata": {},
   "outputs": [],
   "source": [
    "# \"LOCATION\",  replace with mode\n",
    "data['LOCATION'].fillna(data['LOCATION'].mode()[0], inplace=True)"
   ]
  },
  {
   "cell_type": "code",
   "execution_count": 30,
   "id": "a74e0324",
   "metadata": {},
   "outputs": [],
   "source": [
    "#Drop columns with missing values that won't influence our analysis and results in any way\n",
    "columns_to_drop = ['DOORING_I','STATEMENTS_TAKEN_I','PHOTOS_TAKEN_I']\n",
    "data = data.drop(columns = columns_to_drop)"
   ]
  },
  {
   "cell_type": "code",
   "execution_count": 31,
   "id": "a63a4122",
   "metadata": {},
   "outputs": [
    {
     "name": "stdout",
     "output_type": "stream",
     "text": [
      "Total =  746498\n"
     ]
    }
   ],
   "source": [
    "print(\"Total = \",len(data['RD_NO']))"
   ]
  },
  {
   "cell_type": "code",
   "execution_count": 32,
   "id": "c253b409",
   "metadata": {},
   "outputs": [
    {
     "name": "stdout",
     "output_type": "stream",
     "text": [
      "unique values =  742191\n"
     ]
    }
   ],
   "source": [
    "print(\"unique values = \",data['RD_NO'].nunique())"
   ]
  },
  {
   "cell_type": "code",
   "execution_count": 33,
   "id": "4352134e",
   "metadata": {},
   "outputs": [
    {
     "name": "stdout",
     "output_type": "stream",
     "text": [
      "missing values =  4307\n"
     ]
    }
   ],
   "source": [
    "print(\"missing values = \",data['RD_NO'].isnull().sum())"
   ]
  },
  {
   "cell_type": "code",
   "execution_count": 34,
   "id": "d331e63b",
   "metadata": {},
   "outputs": [
    {
     "name": "stdout",
     "output_type": "stream",
     "text": [
      "Total adds up =  746498\n"
     ]
    }
   ],
   "source": [
    "print(\"Total adds up = \",data['RD_NO'].isnull().sum()+data['RD_NO'].nunique())"
   ]
  },
  {
   "cell_type": "code",
   "execution_count": 35,
   "id": "355190da",
   "metadata": {},
   "outputs": [],
   "source": [
    "# Serial numbers missing, not many(4307 missing records out of a total of 746,498) we can drop or use place holder for NA's\n",
    "data['RD_NO'].fillna('Unknown', inplace=True)"
   ]
  },
  {
   "cell_type": "code",
   "execution_count": 36,
   "id": "57e03b73",
   "metadata": {},
   "outputs": [],
   "source": [
    "#Drop missing values for the rest of the missing columns, not many i.e., (4,1,5) for the following columns\n",
    "data.dropna(subset=['STREET_DIRECTION', 'STREET_NAME', 'BEAT_OF_OCCURRENCE'], inplace=True)"
   ]
  },
  {
   "cell_type": "code",
   "execution_count": 37,
   "id": "91a42e54",
   "metadata": {},
   "outputs": [
    {
     "data": {
      "text/plain": [
       "CRASH_RECORD_ID                  0\n",
       "RD_NO                            0\n",
       "CRASH_DATE_EST_I                 0\n",
       "CRASH_DATE                       0\n",
       "POSTED_SPEED_LIMIT               0\n",
       "TRAFFIC_CONTROL_DEVICE           0\n",
       "DEVICE_CONDITION                 0\n",
       "WEATHER_CONDITION                0\n",
       "LIGHTING_CONDITION               0\n",
       "FIRST_CRASH_TYPE                 0\n",
       "TRAFFICWAY_TYPE                  0\n",
       "LANE_CNT                         0\n",
       "ALIGNMENT                        0\n",
       "ROADWAY_SURFACE_COND             0\n",
       "ROAD_DEFECT                      0\n",
       "REPORT_TYPE                      0\n",
       "CRASH_TYPE                       0\n",
       "INTERSECTION_RELATED_I           0\n",
       "NOT_RIGHT_OF_WAY_I               0\n",
       "HIT_AND_RUN_I                    0\n",
       "DAMAGE                           0\n",
       "DATE_POLICE_NOTIFIED             0\n",
       "PRIM_CONTRIBUTORY_CAUSE          0\n",
       "SEC_CONTRIBUTORY_CAUSE           0\n",
       "STREET_NO                        0\n",
       "STREET_DIRECTION                 0\n",
       "STREET_NAME                      0\n",
       "BEAT_OF_OCCURRENCE               0\n",
       "WORK_ZONE_I                      0\n",
       "WORK_ZONE_TYPE                   0\n",
       "WORKERS_PRESENT_I                0\n",
       "NUM_UNITS                        0\n",
       "MOST_SEVERE_INJURY               0\n",
       "INJURIES_TOTAL                   0\n",
       "INJURIES_FATAL                   0\n",
       "INJURIES_INCAPACITATING          0\n",
       "INJURIES_NON_INCAPACITATING      0\n",
       "INJURIES_REPORTED_NOT_EVIDENT    0\n",
       "INJURIES_NO_INDICATION           0\n",
       "INJURIES_UNKNOWN                 0\n",
       "CRASH_HOUR                       0\n",
       "CRASH_DAY_OF_WEEK                0\n",
       "CRASH_MONTH                      0\n",
       "LATITUDE                         0\n",
       "LONGITUDE                        0\n",
       "LOCATION                         0\n",
       "dtype: int64"
      ]
     },
     "execution_count": 37,
     "metadata": {},
     "output_type": "execute_result"
    }
   ],
   "source": [
    "data.isnull().sum()"
   ]
  },
  {
   "cell_type": "code",
   "execution_count": 38,
   "id": "3604ea32",
   "metadata": {},
   "outputs": [
    {
     "data": {
      "text/plain": [
       "0         Y\n",
       "1         Y\n",
       "2         Y\n",
       "3         Y\n",
       "4         Y\n",
       "         ..\n",
       "746493    Y\n",
       "746494    Y\n",
       "746495    Y\n",
       "746496    Y\n",
       "746497    Y\n",
       "Name: INTERSECTION_RELATED_I, Length: 746489, dtype: object"
      ]
     },
     "execution_count": 38,
     "metadata": {},
     "output_type": "execute_result"
    }
   ],
   "source": [
    "data['INTERSECTION_RELATED_I']"
   ]
  },
  {
   "cell_type": "code",
   "execution_count": null,
   "id": "34de9b8e",
   "metadata": {},
   "outputs": [],
   "source": []
  },
  {
   "cell_type": "code",
   "execution_count": null,
   "id": "94c4527c",
   "metadata": {},
   "outputs": [],
   "source": []
  }
 ],
 "metadata": {
  "kernelspec": {
   "display_name": "Python 3 (ipykernel)",
   "language": "python",
   "name": "python3"
  },
  "language_info": {
   "codemirror_mode": {
    "name": "ipython",
    "version": 3
   },
   "file_extension": ".py",
   "mimetype": "text/x-python",
   "name": "python",
   "nbconvert_exporter": "python",
   "pygments_lexer": "ipython3",
   "version": "3.11.5"
  }
 },
 "nbformat": 4,
 "nbformat_minor": 5
}
